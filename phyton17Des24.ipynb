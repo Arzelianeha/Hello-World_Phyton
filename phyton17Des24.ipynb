{
  "nbformat": 4,
  "nbformat_minor": 0,
  "metadata": {
    "colab": {
      "provenance": [],
      "authorship_tag": "ABX9TyPIFkOT5zQGUWyfQR9X4AYC",
      "include_colab_link": true
    },
    "kernelspec": {
      "name": "python3",
      "display_name": "Python 3"
    },
    "language_info": {
      "name": "python"
    }
  },
  "cells": [
    {
      "cell_type": "markdown",
      "metadata": {
        "id": "view-in-github",
        "colab_type": "text"
      },
      "source": [
        "<a href=\"https://colab.research.google.com/github/Arzelianeha/Hello-World_Phyton/blob/main/phyton17Des24.ipynb\" target=\"_parent\"><img src=\"https://colab.research.google.com/assets/colab-badge.svg\" alt=\"Open In Colab\"/></a>"
      ]
    },
    {
      "cell_type": "markdown",
      "source": [
        "**KONDISI IF DALAM PYTHON**"
      ],
      "metadata": {
        "id": "3A2x9z9lq82Y"
      }
    },
    {
      "cell_type": "code",
      "execution_count": 1,
      "metadata": {
        "colab": {
          "base_uri": "https://localhost:8080/"
        },
        "id": "sXm0naOFCvmB",
        "outputId": "d41993a1-30aa-4a8e-a1a5-2233233e4a40"
      },
      "outputs": [
        {
          "output_type": "stream",
          "name": "stdout",
          "text": [
            "Sembilan Lebih Besar Dari Angka Tujuh\n"
          ]
        }
      ],
      "source": [
        "#Kondisi if adalah kondisi yang akan dieksekusi oleh program jika bernilai benar atau TRUE\n",
        "\n",
        "nilai = 9\n",
        "\n",
        "#jika kondisi benar/TRUE maka program akan mengeksekusi perintah dibawahnya\n",
        "if(nilai > 7):\n",
        "    print(\"Sembilan Lebih Besar Dari Angka Tujuh\") # Kondisi Benar, Dieksekusi\n",
        "\n",
        "#jika kondisi salah/FALSE maka program tidak akan mengeksekusi perintah dibawahnya\n",
        "if(nilai > 10):\n",
        "    print(\"Sembilan Lebih Besar Dari Angka Sepuluh\") # Kondisi Salah, Maka tidak tereksekusi"
      ]
    },
    {
      "cell_type": "code",
      "source": [
        "grade = 100\n",
        "\n",
        "if grade == 100:\n",
        "    print(\"perfect\")\n",
        "\n",
        "if grade == 90:\n",
        "    print(\"ok\")\n",
        "    print(\"keep working hard!\")"
      ],
      "metadata": {
        "colab": {
          "base_uri": "https://localhost:8080/"
        },
        "id": "gaAj0gkZC9UZ",
        "outputId": "535a4fd6-dfd3-4c7b-b33b-c9212b9a7ce7"
      },
      "execution_count": 2,
      "outputs": [
        {
          "output_type": "stream",
          "name": "stdout",
          "text": [
            "perfect\n"
          ]
        }
      ]
    },
    {
      "cell_type": "code",
      "source": [
        "grade = float(input(\"Masukkan Nilai Anda: \"))\n",
        "\n",
        "if grade == 100:\n",
        "    print(\"perfect\")\n",
        "\n",
        "if grade == 90:\n",
        "    print(\"ok\")\n",
        "    print(\"keep working hard!\")"
      ],
      "metadata": {
        "colab": {
          "base_uri": "https://localhost:8080/"
        },
        "id": "rE86OkHdDC1I",
        "outputId": "9b3aeafe-a540-4177-facd-86eee2a637ae"
      },
      "execution_count": 3,
      "outputs": [
        {
          "output_type": "stream",
          "name": "stdout",
          "text": [
            "Masukkan Nilai Anda: 90\n",
            "ok\n",
            "keep working hard!\n"
          ]
        }
      ]
    },
    {
      "cell_type": "code",
      "source": [
        "grade = int(input(\"Masukkan Nilai Anda: \"))\n",
        "\n",
        "if grade == 100:\n",
        "    print(\"perfect\")\n",
        "\n",
        "if grade == 90:\n",
        "    print(\"ok\")\n",
        "    print(\"keep working hard!\")"
      ],
      "metadata": {
        "colab": {
          "base_uri": "https://localhost:8080/"
        },
        "id": "dtrzZq04DSAx",
        "outputId": "c238d56a-9e67-4c74-fd6e-053063c13f4e"
      },
      "execution_count": 4,
      "outputs": [
        {
          "name": "stdout",
          "output_type": "stream",
          "text": [
            "Masukkan Nilai Anda: 70\n"
          ]
        }
      ]
    },
    {
      "cell_type": "code",
      "source": [
        "grade = float(input(\"Masukkan Nilai Anda: \"))\n",
        "\n",
        "if grade == 100:\n",
        "    print(\"perfect\")\n",
        "\n",
        "if grade == 90:\n",
        "    print(\"ok\")\n",
        "    print(\"keep working hard!\")"
      ],
      "metadata": {
        "colab": {
          "base_uri": "https://localhost:8080/"
        },
        "id": "FrDhQb91DfM6",
        "outputId": "495ef576-6e93-4751-eedf-2915419ef3bf"
      },
      "execution_count": 5,
      "outputs": [
        {
          "output_type": "stream",
          "name": "stdout",
          "text": [
            "Masukkan Nilai Anda: 100\n",
            "perfect\n"
          ]
        }
      ]
    },
    {
      "cell_type": "markdown",
      "source": [
        "**KONDISI IF-ELSE DALAM PYTHON**"
      ],
      "metadata": {
        "id": "UI_Rpp7KtDMf"
      }
    },
    {
      "cell_type": "code",
      "source": [
        "# Kondisi if else adalah jika kondisi bernilai TRUE maka akan dieksekusi pada if,\n",
        "# tetapi jika bernilai FALSE maka akan dieksekusi kode pada else\n",
        "\n",
        "nilai = 3\n",
        "# Jika pernyataan pada if bernilai TRUE maka if akan dieksekusi,\n",
        "# tetapi jika FALSE kode pada else yang akan dieksekusi.\n",
        "if(nilai > 7):\n",
        "    print(\"Selamat Anda Lulus\")\n",
        "else:\n",
        "    print(\"Maaf Anda Tidak Lulus\")"
      ],
      "metadata": {
        "colab": {
          "base_uri": "https://localhost:8080/"
        },
        "id": "hnm7_01WDmW5",
        "outputId": "1b368706-c6f7-47ee-a836-4314a8c80a8f"
      },
      "execution_count": 6,
      "outputs": [
        {
          "output_type": "stream",
          "name": "stdout",
          "text": [
            "Maaf Anda Tidak Lulus\n"
          ]
        }
      ]
    },
    {
      "cell_type": "code",
      "source": [
        "# Kondisi if else adalah jika kondisi bernilai TRUE maka akan dieksekusi pada if,\n",
        "# tetapi jika bernilai FALSE maka akan dieksekusi kode pada else\n",
        "\n",
        "nilai = 8\n",
        "# Jika pernyataan pada if bernilai TRUE maka if akan dieksekusi,\n",
        "# tetapi jika FALSE kode pada else yang akan dieksekusi.\n",
        "if(nilai > 7):\n",
        "    print(\"Selamat Anda Lulus\")\n",
        "else:\n",
        "    print(\"Maaf Anda Tidak Lulus\")"
      ],
      "metadata": {
        "colab": {
          "base_uri": "https://localhost:8080/"
        },
        "id": "De4J-fITD2ch",
        "outputId": "8c619828-254b-4313-a047-020578c220c1"
      },
      "execution_count": 8,
      "outputs": [
        {
          "output_type": "stream",
          "name": "stdout",
          "text": [
            "Selamat Anda Lulus\n"
          ]
        }
      ]
    },
    {
      "cell_type": "code",
      "source": [
        "str_input = input('Enter your grade: ')\n",
        "grade = int(str_input)\n",
        "\n",
        "if grade == 100:\n",
        "    print(\"perfect\")\n",
        "else:\n",
        "    print(\"keep it up\")"
      ],
      "metadata": {
        "colab": {
          "base_uri": "https://localhost:8080/"
        },
        "id": "pFjiADx7D_nx",
        "outputId": "8b61f635-4267-4bf1-d658-3b075471e74e"
      },
      "execution_count": 9,
      "outputs": [
        {
          "output_type": "stream",
          "name": "stdout",
          "text": [
            "Enter your grade: 95\n",
            "keep it up\n"
          ]
        }
      ]
    },
    {
      "cell_type": "code",
      "source": [
        "# Kondisi if else adalah jika kondisi bernilai TRUE maka akan dieksekusi pada if,\n",
        "# tetapi jika bernilai FALSE maka akan dieksekusi kode pada else\n",
        "\n",
        "nilai = 3\n",
        "# Jika pernyataan pada if bernilai TRUE maka if akan dieksekusi,\n",
        "# tetapi jika FALSE kode pada else yang akan dieksekusi.\n",
        "if(nilai > 7):\n",
        "    print(\"Selamat Anda Lulus\")\n",
        "else:\n",
        "    print(\"Maaf Anda Tidak Lulus\")# Kondisi if else adalah jika kondisi bernilai TRUE maka akan dieksekusi pada if,\n",
        "# tetapi jika bernilai FALSE maka akan dieksekusi kode pada else"
      ],
      "metadata": {
        "colab": {
          "base_uri": "https://localhost:8080/"
        },
        "id": "grdboC3GEIUR",
        "outputId": "e9c05798-a23a-45de-ed31-091f7bf680fc"
      },
      "execution_count": 10,
      "outputs": [
        {
          "output_type": "stream",
          "name": "stdout",
          "text": [
            "Maaf Anda Tidak Lulus\n"
          ]
        }
      ]
    },
    {
      "cell_type": "markdown",
      "source": [
        "**KONDISI IF-ELIF-ELSE DALAM PYTHON**"
      ],
      "metadata": {
        "id": "5e_nlWCovedW"
      }
    },
    {
      "cell_type": "code",
      "source": [
        "#Contoh penggunaan kondisi elif\n",
        "\n",
        "hari_ini = \"Minggu\"\n",
        "\n",
        "if(hari_ini == \"Senin\"):\n",
        "    print(\"Saya akan kuliah\")\n",
        "elif(hari_ini == \"Selasa\"):\n",
        "    print(\"Saya akan kuliah\")\n",
        "elif(hari_ini == \"Rabu\"):\n",
        "    print(\"Saya akan kuliah\")\n",
        "elif(hari_ini == \"Kamis\"):\n",
        "    print(\"Saya akan kuliah\")\n",
        "elif(hari_ini == \"Jumat\"):\n",
        "    print(\"Saya akan kuliah\")\n",
        "elif(hari_ini == \"Sabtu\"):\n",
        "    print(\"Saya akan kuliah\")\n",
        "elif(hari_ini == \"Minggu\"):\n",
        "    print(\"Saya akan libur\")"
      ],
      "metadata": {
        "colab": {
          "base_uri": "https://localhost:8080/"
        },
        "id": "WMsK8sNLEN_Z",
        "outputId": "fa062e20-20f4-4b35-b0b9-9a6ec41a32b9"
      },
      "execution_count": 11,
      "outputs": [
        {
          "output_type": "stream",
          "name": "stdout",
          "text": [
            "Saya akan libur\n"
          ]
        }
      ]
    },
    {
      "cell_type": "code",
      "source": [
        "#Contoh penggunaan kondisi elif\n",
        "\n",
        "hari_ini = input(\"Masukkan hari(gunakan huruf kecil): \")\n",
        "\n",
        "if(hari_ini == \"senin\"):\n",
        "    print(\"Saya akan kuliah\")\n",
        "elif(hari_ini == \"selasa\"):\n",
        "    print(\"Saya akan kuliah\")\n",
        "elif(hari_ini == \"rabu\"):\n",
        "    print(\"Saya akan kuliah\")\n",
        "elif(hari_ini == \"kamis\"):\n",
        "    print(\"Saya akan kuliah\")\n",
        "elif(hari_ini == \"jumat\"):\n",
        "    print(\"Saya akan kuliah\")\n",
        "elif(hari_ini == \"sabtu\"):\n",
        "    print(\"Saya akan kuliah\")\n",
        "elif(hari_ini == \"minggu\"):\n",
        "    print(\"Saya akan libur\")"
      ],
      "metadata": {
        "colab": {
          "base_uri": "https://localhost:8080/"
        },
        "id": "LkLOgueoESB5",
        "outputId": "d4751743-1bad-4e5d-e53b-7ec46ecbe89f"
      },
      "execution_count": 12,
      "outputs": [
        {
          "output_type": "stream",
          "name": "stdout",
          "text": [
            "Masukkan hari(gunakan huruf kecil): senin\n",
            "Saya akan kuliah\n"
          ]
        }
      ]
    },
    {
      "cell_type": "code",
      "source": [
        "str_input = input('Enter your grade: ')\n",
        "grade = int(str_input)\n",
        "\n",
        "if grade == 100:\n",
        "    print(\"perfect\")\n",
        "elif grade >= 85:\n",
        "    print(\"awesome\")\n",
        "elif grade >= 65:\n",
        "    print(\"passed the exam\")\n",
        "else:\n",
        "    print(\"below the passing grade\")"
      ],
      "metadata": {
        "colab": {
          "base_uri": "https://localhost:8080/"
        },
        "id": "1ewHG2n5EXDx",
        "outputId": "2bb1f5fc-49c0-4cba-d534-9b5c0eb768ff"
      },
      "execution_count": 13,
      "outputs": [
        {
          "output_type": "stream",
          "name": "stdout",
          "text": [
            "Enter your grade: 50\n",
            "below the passing grade\n"
          ]
        }
      ]
    },
    {
      "cell_type": "markdown",
      "source": [
        "**KONDISI PERULANGAN**"
      ],
      "metadata": {
        "id": "4UKnOfz7xK03"
      }
    },
    {
      "cell_type": "code",
      "source": [
        "str_input = input('Enter your grade: ')\n",
        "grade = int(str_input)\n",
        "\n",
        "if grade == 100:\n",
        "    print(\"perfect\")\n",
        "\n",
        "elif grade >= 85:\n",
        "    print(\"awesome\")\n",
        "\n",
        "elif grade >= 65:\n",
        "    print(\"passed the exam\")\n",
        "\n",
        "    if grade <= 70:\n",
        "        print(\"but you need to improve it!\")\n",
        "    else:\n",
        "        print(\"with ok grade\")\n",
        "\n",
        "else:\n",
        "    print(\"below the passing grade\")"
      ],
      "metadata": {
        "colab": {
          "base_uri": "https://localhost:8080/"
        },
        "id": "r1PyY7ReEjAB",
        "outputId": "3547cbec-0c21-4e56-c8db-f769dd7c8324"
      },
      "execution_count": 14,
      "outputs": [
        {
          "output_type": "stream",
          "name": "stdout",
          "text": [
            "Enter your grade: 74\n",
            "passed the exam\n",
            "with ok grade\n"
          ]
        }
      ]
    },
    {
      "cell_type": "code",
      "source": [
        "str_input = input('Enter your grade: ')\n",
        "grade = int(str_input)\n",
        "\n",
        "if grade == 100:\n",
        "    print(\"perfect\")\n",
        "\n",
        "elif grade >= 85:\n",
        "    print(\"awesome\")\n",
        "\n",
        "elif grade >= 65:\n",
        "    print(\"passed the exam\")\n",
        "\n",
        "    if grade <= 70:\n",
        "        print(\"but you need to improve it!\")\n",
        "    else:\n",
        "        print(\"with ok grade\")\n",
        "\n",
        "else:\n",
        "    print(\"below the passing grade\")"
      ],
      "metadata": {
        "colab": {
          "base_uri": "https://localhost:8080/"
        },
        "id": "k1VMmMPPEm2A",
        "outputId": "b9530fff-fa65-4bd5-b68b-5282269ad30b"
      },
      "execution_count": 15,
      "outputs": [
        {
          "output_type": "stream",
          "name": "stdout",
          "text": [
            "Enter your grade: 70\n",
            "passed the exam\n",
            "but you need to improve it!\n"
          ]
        }
      ]
    },
    {
      "cell_type": "code",
      "source": [
        "grade = int(input('Enter your current grade: '))\n",
        "prev_grade = int(input('Enter your previous grade: '))\n",
        "\n",
        "if grade >= 90 and prev_grade >= 65:\n",
        "    print(\"awesome\")\n",
        "if grade >= 90 and prev_grade < 65:\n",
        "    print(\"awesome. you definitely working hard, right?\")\n",
        "elif grade >= 65:\n",
        "    print(\"passed the exam\")\n",
        "else:\n",
        "    print(\"below the passing grade\")\n",
        "\n",
        "if (grade >= 65 and not prev_grade >= 65) or (not grade >= 65 and prev_grade >= 65):\n",
        "    print(\"at least you passed one exam. good job!\")"
      ],
      "metadata": {
        "colab": {
          "base_uri": "https://localhost:8080/"
        },
        "id": "DA9th4vhEtoy",
        "outputId": "b2cda115-974b-462f-f607-783d44366164"
      },
      "execution_count": 16,
      "outputs": [
        {
          "output_type": "stream",
          "name": "stdout",
          "text": [
            "Enter your current grade: 90\n",
            "Enter your previous grade: 80\n",
            "awesome\n",
            "passed the exam\n"
          ]
        }
      ]
    },
    {
      "cell_type": "code",
      "source": [
        "grade = int(input('Enter your current grade: '))\n",
        "prev_grade = int(input('Enter your previous grade: '))\n",
        "\n",
        "if grade >= 90 and prev_grade >= 65:\n",
        "    print(\"awesome\")\n",
        "if grade >= 90 and prev_grade < 65:\n",
        "    print(\"awesome. you definitely working hard, right?\")\n",
        "elif grade >= 65:\n",
        "    print(\"passed the exam\")\n",
        "else:\n",
        "    print(\"below the passing grade\")\n",
        "\n",
        "if (grade >= 65 and not prev_grade >= 65) or (not grade >= 65 and prev_grade >= 65):\n",
        "    print(\"at least you passed one exam. good job!\")"
      ],
      "metadata": {
        "colab": {
          "base_uri": "https://localhost:8080/"
        },
        "id": "yle9ldymE0R5",
        "outputId": "642ad740-b9cd-40ae-ca90-966b346950d8"
      },
      "execution_count": 32,
      "outputs": [
        {
          "output_type": "stream",
          "name": "stdout",
          "text": [
            "Enter your current grade: 90\n",
            "Enter your previous grade: 60\n",
            "awesome. you definitely working hard, right?\n",
            "at least you passed one exam. good job!\n"
          ]
        }
      ]
    },
    {
      "cell_type": "code",
      "source": [
        "grade = int(input('Enter your current grade: '))\n",
        "prev_grade = int(input('Enter your previous grade: '))\n",
        "\n",
        "if grade >= 90 and prev_grade >= 65:\n",
        "    print(\"awesome\")\n",
        "if grade >= 90 and prev_grade < 65:\n",
        "    print(\"awesome. you definitely working hard, right?\")\n",
        "elif grade >= 65:\n",
        "    print(\"passed the exam\")\n",
        "else:\n",
        "    print(\"below the passing grade\")\n",
        "\n",
        "if (grade >= 65 and not prev_grade >= 65) or (not grade >= 65 and prev_grade >= 65):\n",
        "    print(\"at least you passed one exam. good job!\")"
      ],
      "metadata": {
        "colab": {
          "base_uri": "https://localhost:8080/"
        },
        "id": "Qkq6dea9E35y",
        "outputId": "238bf28a-ff97-4ada-9763-4c0ae70a09a8"
      },
      "execution_count": 18,
      "outputs": [
        {
          "output_type": "stream",
          "name": "stdout",
          "text": [
            "Enter your current grade: 60\n",
            "Enter your previous grade: 50\n",
            "below the passing grade\n"
          ]
        }
      ]
    },
    {
      "cell_type": "code",
      "source": [
        "#Kondisi if adalah kondisi yang akan dieksekusi oleh program jika bernilai benar atau TRUE\n",
        "nilai = 9\n",
        "#jika kondisi benar/TRUE maka program akan mengeksekusi perintah dibawahnya\n",
        "if(nilai > 7):\n",
        "    print(\"Sembilan Lebih Besar Dari Angka Tujuh\") # Kondisi Benar, Dieksekusi\n",
        "#jika kondisi salah/FALSE maka program tidak akan mengeksekusi perintah dibawahnya\n",
        "if(nilai > 10):\n",
        "    print(\"Sembilan Lebih Besar Dari Angka Sepuluh\") # Kondisi Salah, Maka tidak tereksekusi"
      ],
      "metadata": {
        "colab": {
          "base_uri": "https://localhost:8080/"
        },
        "id": "FNd8MkZoFYci",
        "outputId": "198b853b-f887-4baa-a70f-60db37304ccb"
      },
      "execution_count": 27,
      "outputs": [
        {
          "output_type": "stream",
          "name": "stdout",
          "text": [
            "Sembilan Lebih Besar Dari Angka Tujuh\n"
          ]
        }
      ]
    },
    {
      "cell_type": "code",
      "source": [
        "Lapar = input(\"Apakah zaki lapar? \")\n",
        "if(\"lapar == ya\"):\n",
        "    print(\"Zaki makan\")\n",
        "else:\n",
        "    print(\"Zaki tidak makan\")"
      ],
      "metadata": {
        "colab": {
          "base_uri": "https://localhost:8080/"
        },
        "id": "KaxRBDLgF2lC",
        "outputId": "d42a7aed-f57b-4189-fb7a-182c941db75e"
      },
      "execution_count": 28,
      "outputs": [
        {
          "output_type": "stream",
          "name": "stdout",
          "text": [
            "Apakah zaki lapar? ya\n",
            "Zaki makan\n"
          ]
        }
      ]
    },
    {
      "cell_type": "code",
      "source": [
        "#Contoh penggunaan kondisi elif\n",
        "\n",
        "hari_ini = input(\"Masukkan hari(gunakan huruf kecil): \")\n",
        "\n",
        "if(hari_ini == \"senin\"):\n",
        "    print(\"Saya akan kuliah\")\n",
        "elif(hari_ini == \"selasa\"):\n",
        "    print(\"Saya akan kuliah\")\n",
        "elif(hari_ini == \"rabu\"):\n",
        "    print(\"Saya akan kuliah\")\n",
        "elif(hari_ini == \"kamis\"):\n",
        "    print(\"Saya akan kuliah\")\n",
        "elif(hari_ini == \"jumat\"):\n",
        "    print(\"Saya akan kuliah\")\n",
        "elif(hari_ini == \"sabtu\"):\n",
        "    print(\"Saya akan kuliah\")\n",
        "elif(hari_ini == \"minggu\"):\n",
        "    print(\"Saya akan libur\")"
      ],
      "metadata": {
        "colab": {
          "base_uri": "https://localhost:8080/"
        },
        "id": "UVgD8PngGBbS",
        "outputId": "65c14be5-0e21-4227-dddb-917910d2a85b"
      },
      "execution_count": 29,
      "outputs": [
        {
          "output_type": "stream",
          "name": "stdout",
          "text": [
            "Masukkan hari(gunakan huruf kecil): rabu\n",
            "Saya akan kuliah\n"
          ]
        }
      ]
    },
    {
      "cell_type": "code",
      "source": [
        "str_input = input('Enter your grade: ')\n",
        "grade = int(str_input)\n",
        "\n",
        "if grade == 100:\n",
        "    print(\"perfect\")\n",
        "elif grade >= 85:\n",
        "    print(\"awesome\")\n",
        "elif grade >= 65:\n",
        "    print(\"passed the exam\")\n",
        "else:\n",
        "    print(\"below the passing grade\")\n"
      ],
      "metadata": {
        "colab": {
          "base_uri": "https://localhost:8080/"
        },
        "id": "7EVpQACnGEzx",
        "outputId": "152a96db-bcfd-45e3-9a5b-0b9c6c2f95bc"
      },
      "execution_count": 30,
      "outputs": [
        {
          "output_type": "stream",
          "name": "stdout",
          "text": [
            "Enter your grade: 85\n",
            "awesome\n"
          ]
        }
      ]
    },
    {
      "cell_type": "code",
      "source": [
        "umur = 20\n",
        "status = 'Dewasa' if umur >= 18 else 'Anak-anak'\n",
        "print(status)"
      ],
      "metadata": {
        "colab": {
          "base_uri": "https://localhost:8080/"
        },
        "id": "yNTHx6UIGxwl",
        "outputId": "5f6ffa02-4996-4d98-c95a-3fee59406351"
      },
      "execution_count": 34,
      "outputs": [
        {
          "output_type": "stream",
          "name": "stdout",
          "text": [
            "Dewasa\n"
          ]
        }
      ]
    },
    {
      "cell_type": "code",
      "source": [
        "# bilangan habis dibagi 3\n",
        "angka = int(input(\"Masukkan sebuah bilangan: \"))\n",
        "\n",
        "if angka % 3 == 0:\n",
        "    print(f\"Bilangan {angka} habis dibagi 3.\")\n",
        "else:\n",
        "    print(f\"Bilangan {angka} tidak habis dibagi 3.\")\n"
      ],
      "metadata": {
        "colab": {
          "base_uri": "https://localhost:8080/"
        },
        "id": "6_WKGnKzMH1F",
        "outputId": "3f743989-27f2-4f6c-d836-7a45da92feb3"
      },
      "execution_count": 39,
      "outputs": [
        {
          "output_type": "stream",
          "name": "stdout",
          "text": [
            "Masukkan sebuah bilangan: 9\n",
            "Bilangan 9 habis dibagi 3.\n"
          ]
        }
      ]
    },
    {
      "cell_type": "code",
      "source": [
        "# Sapa berdasarkan nama dan jenis kelamin\n",
        "nama = input(\"Masukkan nama Anda: \")\n",
        "jenis_kelamin = input(\"Masukkan jenis kelamin Anda (pria/wanita): \").lower()\n",
        "\n",
        "if jenis_kelamin == \"pria\":\n",
        "    print(f\"Halo bro {nama}!\")\n",
        "elif jenis_kelamin == \"wanita\":\n",
        "    print(f\"Halo sis {nama}!\")\n",
        "else:\n",
        "    print(\"Jenis kelamin tidak valid. Masukkan 'pria' atau 'wanita'.\")\n"
      ],
      "metadata": {
        "colab": {
          "base_uri": "https://localhost:8080/"
        },
        "id": "1lxpExXgMXQd",
        "outputId": "033c61e1-86e6-44e5-ed92-840a3073e52c"
      },
      "execution_count": 36,
      "outputs": [
        {
          "output_type": "stream",
          "name": "stdout",
          "text": [
            "Masukkan nama Anda: arzelia neha\n",
            "Masukkan jenis kelamin Anda (pria/wanita): wanita\n",
            "Halo sis arzelia neha!\n"
          ]
        }
      ]
    },
    {
      "cell_type": "code",
      "source": [
        "# if-elif-else\n",
        "nilai = int(input(\"Masukkan nilai Anda: \"))\n",
        "\n",
        "if nilai >= 90:\n",
        "    print(\"Nilai Anda A. Hebat sekali!\")\n",
        "elif 80 <= nilai < 90:\n",
        "    print(\"Nilai Anda B. Bagus!\")\n",
        "elif 70 <= nilai < 80:\n",
        "    print(\"Nilai Anda C. Cukup baik.\")\n",
        "elif 60 <= nilai < 70:\n",
        "    print(\"Nilai Anda D. Perlu perbaikan.\")\n",
        "else:\n",
        "    print(\"Nilai Anda E. Jangan menyerah, terus belajar!\")\n"
      ],
      "metadata": {
        "colab": {
          "base_uri": "https://localhost:8080/"
        },
        "id": "-ewyrxoDMdCc",
        "outputId": "befae9e4-b4c3-46e3-bafb-b8346f354510"
      },
      "execution_count": 37,
      "outputs": [
        {
          "output_type": "stream",
          "name": "stdout",
          "text": [
            "Masukkan nilai Anda: 85\n",
            "Nilai Anda B. Bagus!\n"
          ]
        }
      ]
    }
  ]
}