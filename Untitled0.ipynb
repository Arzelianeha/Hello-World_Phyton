{
  "nbformat": 4,
  "nbformat_minor": 0,
  "metadata": {
    "colab": {
      "provenance": [],
      "authorship_tag": "ABX9TyNE5vMBdIdins1qpyqfhHTk",
      "include_colab_link": true
    },
    "kernelspec": {
      "name": "python3",
      "display_name": "Python 3"
    },
    "language_info": {
      "name": "python"
    }
  },
  "cells": [
    {
      "cell_type": "markdown",
      "metadata": {
        "id": "view-in-github",
        "colab_type": "text"
      },
      "source": [
        "<a href=\"https://colab.research.google.com/github/Arzelianeha/Hello-World_Phyton/blob/main/Untitled0.ipynb\" target=\"_parent\"><img src=\"https://colab.research.google.com/assets/colab-badge.svg\" alt=\"Open In Colab\"/></a>"
      ]
    },
    {
      "cell_type": "code",
      "execution_count": 9,
      "metadata": {
        "colab": {
          "base_uri": "https://localhost:8080/"
        },
        "id": "Di4JaoBGKxtn",
        "outputId": "8ab4e2d0-d644-4859-af04-eecee305bf44"
      },
      "outputs": [
        {
          "output_type": "stream",
          "name": "stdout",
          "text": [
            "Masukkan bilangan bulat positif N: 1067\n",
            "Bilangan kelipatan 5 dari 1 hingga 1067: [5, 10, 15, 20, 25, 30, 35, 40, 45, 50, 55, 60, 65, 70, 75, 80, 85, 90, 95, 100, 105, 110, 115, 120, 125, 130, 135, 140, 145, 150, 155, 160, 165, 170, 175, 180, 185, 190, 195, 200, 205, 210, 215, 220, 225, 230, 235, 240, 245, 250, 255, 260, 265, 270, 275, 280, 285, 290, 295, 300, 305, 310, 315, 320, 325, 330, 335, 340, 345, 350, 355, 360, 365, 370, 375, 380, 385, 390, 395, 400, 405, 410, 415, 420, 425, 430, 435, 440, 445, 450, 455, 460, 465, 470, 475, 480, 485, 490, 495, 500, 505, 510, 515, 520, 525, 530, 535, 540, 545, 550, 555, 560, 565, 570, 575, 580, 585, 590, 595, 600, 605, 610, 615, 620, 625, 630, 635, 640, 645, 650, 655, 660, 665, 670, 675, 680, 685, 690, 695, 700, 705, 710, 715, 720, 725, 730, 735, 740, 745, 750, 755, 760, 765, 770, 775, 780, 785, 790, 795, 800, 805, 810, 815, 820, 825, 830, 835, 840, 845, 850, 855, 860, 865, 870, 875, 880, 885, 890, 895, 900, 905, 910, 915, 920, 925, 930, 935, 940, 945, 950, 955, 960, 965, 970, 975, 980, 985, 990, 995, 1000, 1005, 1010, 1015, 1020, 1025, 1030, 1035, 1040, 1045, 1050, 1055, 1060, 1065]\n",
            "Jumlah semua bilangan kelipatan 5: 113955\n"
          ]
        }
      ],
      "source": [
        "# Meminta input dari pengguna\n",
        "N = int(input(\"Masukkan bilangan bulat positif N: \"))\n",
        "\n",
        "# Inisialisasi variabel untuk menyimpan hasil penjumlahan\n",
        "total = 0\n",
        "kelipatan_5 = []\n",
        "\n",
        "# Menggunakan for loop\n",
        "for i in range(1, N + 1):\n",
        "    if i % 5 == 0:\n",
        "        kelipatan_5.append(i)\n",
        "        total += i\n",
        "\n",
        "# Menampilkan hasil\n",
        "if kelipatan_5:\n",
        "    print(f\"Bilangan kelipatan 5 dari 1 hingga {N}: {kelipatan_5}\")\n",
        "else:\n",
        "    print(f\"Tidak ada bilangan kelipatan 5 dari 1 hingga {N}\")\n",
        "\n",
        "print(f\"Jumlah semua bilangan kelipatan 5: {total}\")\n"
      ]
    },
    {
      "cell_type": "code",
      "source": [
        "# Meminta input dari pengguna\n",
        "N = int(input(\"Masukkan bilangan bulat positif N: \"))\n",
        "\n",
        "# Inisialisasi variabel untuk menyimpan hasil penjumlahan\n",
        "total = 0\n",
        "kelipatan_5 = []\n",
        "\n",
        "# Menggunakan while loop\n",
        "i = 1\n",
        "while i <= N:\n",
        "    if i % 5 == 0:\n",
        "        kelipatan_5.append(i)\n",
        "        total += i\n",
        "    i += 1\n",
        "\n",
        "# Menampilkan hasil\n",
        "if kelipatan_5:\n",
        "    print(f\"Bilangan kelipatan 5 dari 1 hingga {N}: {kelipatan_5}\")\n",
        "else:\n",
        "    print(f\"Tidak ada bilangan kelipatan 5 dari 1 hingga {N}\")\n",
        "\n",
        "print(f\"Jumlah semua bilangan kelipatan 5: {total}\")\n"
      ],
      "metadata": {
        "colab": {
          "base_uri": "https://localhost:8080/"
        },
        "id": "AqHsp8BZLzfO",
        "outputId": "53c00a86-b75c-45db-d08f-c0768e4a0d47"
      },
      "execution_count": 32,
      "outputs": [
        {
          "output_type": "stream",
          "name": "stdout",
          "text": [
            "Masukkan bilangan bulat positif N: 20\n",
            "Bilangan kelipatan 5 dari 1 hingga 20: [5, 10, 15, 20]\n",
            "Jumlah semua bilangan kelipatan 5: 50\n"
          ]
        }
      ]
    },
    {
      "cell_type": "code",
      "source": [
        "N = int(input(\"masukan nilai N :\"))\n",
        "Jumlah = 0\n",
        "for i in range(5, N + 1, 5):\n",
        "      Jumlah +=i\n",
        "print(\"Jumlah kelipatan 5 antara i s.d {N} adalah {Jumlah}\")\n"
      ],
      "metadata": {
        "colab": {
          "base_uri": "https://localhost:8080/"
        },
        "id": "U6hJ9OcHO9Zv",
        "outputId": "61f3982e-8f45-4bd5-afcb-2ec18b9ae821"
      },
      "execution_count": 33,
      "outputs": [
        {
          "output_type": "stream",
          "name": "stdout",
          "text": [
            "masukan nilai N :5\n",
            "Jumlah kelipatan 5 antara i s.d {N} adalah {Jumlah}\n"
          ]
        }
      ]
    }
  ]
}