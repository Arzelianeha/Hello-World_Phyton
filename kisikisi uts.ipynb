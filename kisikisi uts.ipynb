{
  "nbformat": 4,
  "nbformat_minor": 0,
  "metadata": {
    "colab": {
      "provenance": [],
      "authorship_tag": "ABX9TyOdnVcWm9gGXTdGVdlIXUoZ",
      "include_colab_link": true
    },
    "kernelspec": {
      "name": "python3",
      "display_name": "Python 3"
    },
    "language_info": {
      "name": "python"
    }
  },
  "cells": [
    {
      "cell_type": "markdown",
      "metadata": {
        "id": "view-in-github",
        "colab_type": "text"
      },
      "source": [
        "<a href=\"https://colab.research.google.com/github/Arzelianeha/Hello-World_Phyton/blob/main/kisikisi%20uts.ipynb\" target=\"_parent\"><img src=\"https://colab.research.google.com/assets/colab-badge.svg\" alt=\"Open In Colab\"/></a>"
      ]
    },
    {
      "cell_type": "code",
      "source": [
        "def kalkulator():\n",
        "    a = float(input(\"masukkan bilangan pertama:\"))\n",
        "    b = float(input(\"masukkan bilangan kedua :\"))\n",
        "    operasi = input(\"pilih operasi (+, -, *, /):\")\n",
        "    if operasi == \"+\":\n",
        "        hasil = a + b\n",
        "    elif operasi == \"-\":\n",
        "        hasil = a - b\n",
        "    elif operasi == \"*\":\n",
        "        hasil = a * b\n",
        "    elif operasi == \"/\":\n",
        "        hasil = a / b\n",
        "    else:\n",
        "        print(\"operasi tidak valid\")\n",
        "        return\n",
        "    print(\"hasil:\", hasil)\n",
        "\n",
        "kalkulator()"
      ],
      "metadata": {
        "colab": {
          "base_uri": "https://localhost:8080/"
        },
        "id": "8JYvt1wnVEvE",
        "outputId": "ce41d21f-8497-4155-a724-bcb2d187b411"
      },
      "execution_count": 9,
      "outputs": [
        {
          "output_type": "stream",
          "name": "stdout",
          "text": [
            "masukkan bilangan pertama:2\n",
            "masukkan bilangan kedua :1\n",
            "pilih operasi (+, -, *, /):+\n",
            "hasil: 3.0\n"
          ]
        }
      ]
    },
    {
      "cell_type": "code",
      "source": [
        "#Pola Segitiga\n",
        "print(\"1. Pola Segitiga\")\n",
        "n = 5\n",
        "for i in range(1, n+1):\n",
        "    for j in range(1, i+1):\n",
        "        print(j, end='')\n",
        "    print()\n",
        "print()"
      ],
      "metadata": {
        "colab": {
          "base_uri": "https://localhost:8080/"
        },
        "id": "XIUH4HSuXD7e",
        "outputId": "c2305db7-0c3b-4fa4-cd51-418ef0325620"
      },
      "execution_count": 10,
      "outputs": [
        {
          "output_type": "stream",
          "name": "stdout",
          "text": [
            "1. Pola Segitiga\n",
            "1\n",
            "12\n",
            "123\n",
            "1234\n",
            "12345\n",
            "\n"
          ]
        }
      ]
    },
    {
      "cell_type": "code",
      "source": [
        "#Nilai Mahasiswa\n",
        "print(\"2. Nilai Mahasiswa\")\n",
        "n = int(input(\"Masukkan jumlah mahasiswa: \"))\n",
        "nilai = []\n",
        "for i in range(n):\n",
        "    nilai.append(float(input(\"Masukkan nilai mahasiswa ke-{}: \".format(i+1))))\n",
        "print(\"Seluruh nilai mahasiswa:\")\n",
        "for v in nilai:\n",
        "    print(v)\n",
        "rata = sum(nilai)/n\n",
        "print(\"Rata-rata nilai: {:.2f}\".format(rata))\n",
        "print(\"Nilai tertinggi:\", max(nilai))\n",
        "print(\"Nilai terendah:\", min(nilai))\n",
        "print()"
      ],
      "metadata": {
        "colab": {
          "base_uri": "https://localhost:8080/"
        },
        "id": "v9qbngDaXQO5",
        "outputId": "8cb0198d-122c-4d34-d744-023b706dd33f"
      },
      "execution_count": 13,
      "outputs": [
        {
          "output_type": "stream",
          "name": "stdout",
          "text": [
            "2. Nilai Mahasiswa\n",
            "Masukkan jumlah mahasiswa: 2\n",
            "Masukkan nilai mahasiswa ke-1: 90\n",
            "Masukkan nilai mahasiswa ke-2: 80\n",
            "Seluruh nilai mahasiswa:\n",
            "90.0\n",
            "80.0\n",
            "Rata-rata nilai: 85.00\n",
            "Nilai tertinggi: 90.0\n",
            "Nilai terendah: 80.0\n",
            "\n"
          ]
        }
      ]
    },
    {
      "cell_type": "code",
      "source": [
        "#Penjumlahan Matriks 2x2\n",
        "print(\"3. Penjumlahan Matriks\")\n",
        "print(\"Masukkan matriks A (2x2):\")\n",
        "A = []\n",
        "for _ in range(2):\n",
        "    A.append(list(map(int, input().split())))\n",
        "print(\"Masukkan matriks B (2x2):\")\n",
        "B = []\n",
        "for _ in range(2):\n",
        "    B.append(list(map(int, input().split())))\n",
        "print(\"Hasil penjumlahan:\")\n",
        "for i in range(2):\n",
        "    for j in range(2):\n",
        "        print(A[i][j] + B[i][j], end=' ')\n",
        "    print()\n",
        "print()"
      ],
      "metadata": {
        "colab": {
          "base_uri": "https://localhost:8080/"
        },
        "id": "e7eC0OJdXkvf",
        "outputId": "78cf45e0-fc4f-40ef-9cf4-28f6bb5cbfb7"
      },
      "execution_count": 17,
      "outputs": [
        {
          "output_type": "stream",
          "name": "stdout",
          "text": [
            "3. Penjumlahan Matriks\n",
            "Masukkan matriks A (2x2):\n",
            "1 2\n",
            "3 4\n",
            "Masukkan matriks B (2x2):\n",
            "5 6\n",
            "7 8\n",
            "Hasil penjumlahan:\n",
            "6 8 \n",
            "10 12 \n",
            "\n"
          ]
        }
      ]
    },
    {
      "cell_type": "code",
      "source": [
        "#Kalkulasi Gaji\n",
        "print(\"4. Kalkulasi Gaji\")\n",
        "def gaji_bersih(gaji):\n",
        "    tunjangan = gaji * 0.1\n",
        "    potongan = gaji * 0.05\n",
        "    return gaji + tunjangan - potongan\n",
        "gaji = float(input(\"Masukkan gaji pokok: \"))\n",
        "print(\"Gaji bersih:\", gaji_bersih(gaji))\n"
      ],
      "metadata": {
        "colab": {
          "base_uri": "https://localhost:8080/"
        },
        "id": "3HLl5kb6Z9oR",
        "outputId": "989518ed-cde6-47f2-b07c-0a563d0dc6aa"
      },
      "execution_count": 21,
      "outputs": [
        {
          "output_type": "stream",
          "name": "stdout",
          "text": [
            "4. Kalkulasi Gaji\n",
            "Masukkan gaji pokok: 3000000\n",
            "Gaji bersih: 3150000.0\n"
          ]
        }
      ]
    },
    {
      "cell_type": "code",
      "source": [
        "# Program sederhana nilai mahasiswa\n",
        "\n",
        "n = int(input(\"Masukkan jumlah mahasiswa: \"))\n",
        "nilai = []\n",
        "\n",
        "for i in range(n):\n",
        "    while True:\n",
        "        n_val = int(input(f\"Masukkan nilai mahasiswa ke-{i+1} (0-100): \"))\n",
        "        if 0 <= n_val <= 100:\n",
        "            nilai.append(n_val)\n",
        "            break\n",
        "        print(\"Nilai harus antara 0 sampai 100!\")\n",
        "\n",
        "print(\"\\nSeluruh nilai mahasiswa:\", nilai)\n",
        "\n",
        "rata_rata = sum(nilai) / n\n",
        "print(\"Rata-rata nilai:\", rata_rata)\n",
        "print(\"Nilai tertinggi:\", max(nilai))\n",
        "print(\"Nilai terendah:\", min(nilai))\n"
      ],
      "metadata": {
        "colab": {
          "base_uri": "https://localhost:8080/"
        },
        "id": "dN2sqTI7cguZ",
        "outputId": "ed502668-338b-4345-d7fd-77d9291f0eea"
      },
      "execution_count": 22,
      "outputs": [
        {
          "output_type": "stream",
          "name": "stdout",
          "text": [
            "Masukkan jumlah mahasiswa: 10\n",
            "Masukkan nilai mahasiswa ke-1 (0-100): 90\n",
            "Masukkan nilai mahasiswa ke-2 (0-100): 99\n",
            "Masukkan nilai mahasiswa ke-3 (0-100): 98\n",
            "Masukkan nilai mahasiswa ke-4 (0-100): 97\n",
            "Masukkan nilai mahasiswa ke-5 (0-100): 96\n",
            "Masukkan nilai mahasiswa ke-6 (0-100): 95\n",
            "Masukkan nilai mahasiswa ke-7 (0-100): 94\n",
            "Masukkan nilai mahasiswa ke-8 (0-100): 93\n",
            "Masukkan nilai mahasiswa ke-9 (0-100): 92\n",
            "Masukkan nilai mahasiswa ke-10 (0-100): 91\n",
            "\n",
            "Seluruh nilai mahasiswa: [90, 99, 98, 97, 96, 95, 94, 93, 92, 91]\n",
            "Rata-rata nilai: 94.5\n",
            "Nilai tertinggi: 99\n",
            "Nilai terendah: 90\n"
          ]
        }
      ]
    }
  ]
}