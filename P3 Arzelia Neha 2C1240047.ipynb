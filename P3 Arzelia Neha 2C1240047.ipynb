{
  "nbformat": 4,
  "nbformat_minor": 0,
  "metadata": {
    "colab": {
      "provenance": [],
      "authorship_tag": "ABX9TyOglzqWCAUk0U94xM1MNcmP",
      "include_colab_link": true
    },
    "kernelspec": {
      "name": "python3",
      "display_name": "Python 3"
    },
    "language_info": {
      "name": "python"
    }
  },
  "cells": [
    {
      "cell_type": "markdown",
      "metadata": {
        "id": "view-in-github",
        "colab_type": "text"
      },
      "source": [
        "<a href=\"https://colab.research.google.com/github/Arzelianeha/Hello-World_Phyton/blob/main/P3%20Arzelia%20Neha%202C1240047.ipynb\" target=\"_parent\"><img src=\"https://colab.research.google.com/assets/colab-badge.svg\" alt=\"Open In Colab\"/></a>"
      ]
    },
    {
      "cell_type": "code",
      "execution_count": 1,
      "metadata": {
        "colab": {
          "base_uri": "https://localhost:8080/"
        },
        "id": "L3wWZfxJtgdu",
        "outputId": "9c9cfc39-0ace-4e62-c2b1-2ec40b1de5b6"
      },
      "outputs": [
        {
          "output_type": "stream",
          "name": "stdout",
          "text": [
            "7\n"
          ]
        }
      ],
      "source": [
        "NumbInt = [9,8,7,6,5,4,3,2,1,0]\n",
        "print(NumbInt[2])"
      ]
    },
    {
      "cell_type": "code",
      "source": [
        "x = [0 for i in range (10)]\n",
        "print (x[7])"
      ],
      "metadata": {
        "colab": {
          "base_uri": "https://localhost:8080/"
        },
        "id": "4moBEY93t7lx",
        "outputId": "d43c44ff-e80c-49e3-fe62-03b68c7218ab"
      },
      "execution_count": 6,
      "outputs": [
        {
          "output_type": "stream",
          "name": "stdout",
          "text": [
            "0\n"
          ]
        }
      ]
    },
    {
      "cell_type": "code",
      "source": [
        "StarChar = [ \"*\" for i in range (10)]\n",
        "print (StarChart[6])"
      ],
      "metadata": {
        "colab": {
          "base_uri": "https://localhost:8080/"
        },
        "id": "Mfj9CKxGun3a",
        "outputId": "24029a42-e04e-4716-c5b5-919df8b436ed"
      },
      "execution_count": 26,
      "outputs": [
        {
          "output_type": "stream",
          "name": "stdout",
          "text": [
            "6\n"
          ]
        }
      ]
    },
    {
      "cell_type": "code",
      "source": [
        "NumbInt = [1, 2, 4, -1, 100, 2, 0, -1, 3, 9]\n",
        "print (NumbInt [3])"
      ],
      "metadata": {
        "colab": {
          "base_uri": "https://localhost:8080/"
        },
        "id": "SlPZdQW5vXLK",
        "outputId": "94fba668-4203-4302-bff9-ce3ad640c7c8"
      },
      "execution_count": 19,
      "outputs": [
        {
          "output_type": "stream",
          "name": "stdout",
          "text": [
            "-1\n"
          ]
        }
      ]
    },
    {
      "cell_type": "code",
      "source": [
        "# Program IsiArray\n",
        "# Mengisi array dengan nilai dari pengguna\n",
        "# KAMUS\n",
        "# TabInt : array [0..9] of int\n",
        "# i: int\n",
        "# ALGORITMA\n",
        "# Deklarasi array NumbInt dan mengisinya dengan nilai default 0\n",
        "NumbInt = [0 for i in range(10)]\n",
        "# Mengisi array dari pembacaan nilai dari keyboard\n",
        "for i in range(0,10): NumbInt[i] = int(input())"
      ],
      "metadata": {
        "colab": {
          "base_uri": "https://localhost:8080/"
        },
        "id": "2ttspUq-yZOZ",
        "outputId": "fb114ef2-c08a-4ba7-94cb-283639246c29"
      },
      "execution_count": 27,
      "outputs": [
        {
          "name": "stdout",
          "output_type": "stream",
          "text": [
            "5\n",
            "5\n",
            "6\n",
            "7\n",
            "8\n",
            "9\n",
            "1\n",
            "2\n",
            "3\n",
            "4\n"
          ]
        }
      ]
    },
    {
      "cell_type": "code",
      "source": [
        "# Program IsiArray\n",
        "# Mengisi array dengan nilai dari pengguna\n",
        "# KAMUS\n",
        "# TabInt : array [0..9] of int\n",
        "# I : int\n",
        "# ALGORITMA\n",
        "# Deklarasi array NumbInt dan mengisinya dengan nilai default 0\n",
        "NumbInt = [0 for i in range(10)]\n",
        "# Mengisi array dari pembacaan nilai dari keyboard\n",
        "for i in range(0,10):\n",
        "   NumbInt[i] = int(input())\n",
        "# Mencetak isi array\n",
        "for i in range(0,10):\n",
        "   print(NumbInt[i])"
      ],
      "metadata": {
        "colab": {
          "base_uri": "https://localhost:8080/"
        },
        "id": "sM5oTN53yj1h",
        "outputId": "07a866aa-edb5-4fdc-a344-11cd16ccaade"
      },
      "execution_count": 29,
      "outputs": [
        {
          "output_type": "stream",
          "name": "stdout",
          "text": [
            "1\n",
            "2\n",
            "3\n",
            "4\n",
            "5\n",
            "6\n",
            "7\n",
            "8\n",
            "9\n",
            "0\n",
            "1\n",
            "2\n",
            "3\n",
            "4\n",
            "5\n",
            "6\n",
            "7\n",
            "8\n",
            "9\n",
            "0\n"
          ]
        }
      ]
    },
    {
      "cell_type": "code",
      "source": [
        "# Program AverageArray\n",
        "# Menghitung nilai rata-rata elemen array\n",
        "# KAMUS\n",
        "# TabInt : array [0..9] of int\n",
        "# i : int\n",
        "# sum : int\n",
        "# ALGORITMA\n",
        "# Deklarasi array TabInt dan mengisinya dengan nilai default 0\n",
        "NumbInt = [0 for i in range(10)]\n",
        "# Mengisi array dari pembacaan nilai dari keyboard\n",
        "for i in range(0,10):\n",
        "  NumbInt[i] = int(input())\n",
        "# Menjumlahkan elemen array\n",
        "sum = 0\n",
        "for i in range(0,10):\n",
        "  sum = sum + NumbInt[i]\n",
        "# Menghitung nilai rata-rata dan menampilkannya\n",
        "rata = sum/10\n",
        "print (\"Nilai rata-rata = \" + str(rata))"
      ],
      "metadata": {
        "colab": {
          "base_uri": "https://localhost:8080/"
        },
        "id": "F5xulv8Ty2YR",
        "outputId": "efa31280-c37a-4eb0-a1ea-e7d52f1e4453"
      },
      "execution_count": 30,
      "outputs": [
        {
          "output_type": "stream",
          "name": "stdout",
          "text": [
            "2\n",
            "3\n",
            "4\n",
            "5\n",
            "6\n",
            "7\n",
            "8\n",
            "9\n",
            "0\n",
            "1\n",
            "Nilai rata-rata = 4.5\n"
          ]
        }
      ]
    },
    {
      "cell_type": "code",
      "source": [
        "# Program: Perkalian Array dan Mencari Nilai Ekstrem\n",
        "# 1. Inisialisasi array S\n",
        "S = [4, 1, -1, 10, 0, 12]\n",
        "# 2. Input nilai D dari pengguna\n",
        "D = int(input(\"Masukkan nilai D (pengali): \"))\n",
        "# 3. Kalikan setiap elemen S dengan D\n",
        "S = [elemen * D for elemen in S]\n",
        "# 4. Tampilkan hasil array setelah dikalikan\n",
        "print(\"Array S setelah dikalikan dengan D:\")\n",
        "print(S)\n",
        "# 5. Cari nilai maksimum dan minimum\n",
        "maks = max(S)\n",
        "minim = min(S)\n",
        "# 6. Tampilkan nilai maksimum dan minimum\n",
        "print(\"Nilai terbesar dalam array:\", maks)\n",
        "print(\"Nilai terkecil dalam array:\", minim)"
      ],
      "metadata": {
        "colab": {
          "base_uri": "https://localhost:8080/"
        },
        "id": "x-KgbKWPzAdw",
        "outputId": "ca136189-0d6a-4c97-f9fb-05a7fdba5c20"
      },
      "execution_count": 31,
      "outputs": [
        {
          "output_type": "stream",
          "name": "stdout",
          "text": [
            "Masukkan nilai D (pengali): 7\n",
            "Array S setelah dikalikan dengan D:\n",
            "[28, 7, -7, 70, 0, 84]\n",
            "Nilai terbesar dalam array: 84\n",
            "Nilai terkecil dalam array: -7\n"
          ]
        }
      ]
    },
    {
      "cell_type": "code",
      "source": [
        "MatSatuan = [[0,1,0,1,1,1,0],\n",
        "             [1,1,1,1,0,1,1],\n",
        "             [0,0,0,1,1,0,1]]"
      ],
      "metadata": {
        "id": "SE9sk1GF5nD6"
      },
      "execution_count": 37,
      "outputs": []
    },
    {
      "cell_type": "code",
      "source": [
        "MatValue = [[0 for j in range (4)] for i in range (3)]"
      ],
      "metadata": {
        "id": "TPWZNHOJ54Hj"
      },
      "execution_count": 38,
      "outputs": []
    },
    {
      "cell_type": "code",
      "source": [
        "for j in range(len(MatM))"
      ],
      "metadata": {
        "id": "bAsJoqdy6KtL"
      },
      "execution_count": null,
      "outputs": []
    },
    {
      "cell_type": "code",
      "source": [
        "MatM = [MatValue,\n",
        "        [1,2,3,4,5,6,7],\n",
        "        [6,7,8,9,10,6,7],\n",
        "        [11,12,13,14,15],\n",
        "        [16,17,18,19,20],\n",
        "        [21,22,23,24,25]]\n",
        "print(MatM)\n",
        "for j in range(len(MatM)):\n",
        "    for i in range(len(MatM[j])):  #Removed MatM[j] from this line\n",
        "        print(MatM[j][i], end=\" \")  # Corrected indentation\n",
        "    print() # print newline after each row # Corrected indentation"
      ],
      "metadata": {
        "colab": {
          "base_uri": "https://localhost:8080/"
        },
        "id": "1wkZxBmL6Rq1",
        "outputId": "d902f26d-3915-4419-a523-23d39df4b24e"
      },
      "execution_count": 56,
      "outputs": [
        {
          "output_type": "stream",
          "name": "stdout",
          "text": [
            "[[[0, 0, 0, 0], [0, 0, 0, 0], [0, 0, 0, 0]], [1, 2, 3, 4, 5, 6, 7], [6, 7, 8, 9, 10, 6, 7], [11, 12, 13, 14, 15], [16, 17, 18, 19, 20], [21, 22, 23, 24, 25]]\n",
            "[0, 0, 0, 0] [0, 0, 0, 0] [0, 0, 0, 0] \n",
            "1 2 3 4 5 6 7 \n",
            "6 7 8 9 10 6 7 \n",
            "11 12 13 14 15 \n",
            "16 17 18 19 20 \n",
            "21 22 23 24 25 \n"
          ]
        }
      ]
    },
    {
      "cell_type": "code",
      "source": [
        "MatSatuan = [\n",
        "    [0, 1, 0, 1, 1, 1, 0],\n",
        "    [1, 1, 1, 1, 0, 1, 1],\n",
        "    [0, 0, 0, 1, 1, 0, 1]\n",
        "]\n"
      ],
      "metadata": {
        "id": "64bFcM738_wO"
      },
      "execution_count": 41,
      "outputs": []
    },
    {
      "cell_type": "code",
      "source": [
        "MatValue = [[0 for j in range(4)] for i in range(3)]\n"
      ],
      "metadata": {
        "id": "Y44fRECO9D_D"
      },
      "execution_count": 42,
      "outputs": []
    },
    {
      "cell_type": "code",
      "source": [
        "[[0, 0, 0, 0],\n",
        " [0, 0, 0, 0],\n",
        " [0, 0, 0, 0]]\n"
      ],
      "metadata": {
        "colab": {
          "base_uri": "https://localhost:8080/"
        },
        "id": "USRd7wDA9GxE",
        "outputId": "560ce88e-2167-43c2-eb95-21834702e824"
      },
      "execution_count": 43,
      "outputs": [
        {
          "output_type": "execute_result",
          "data": {
            "text/plain": [
              "[[0, 0, 0, 0], [0, 0, 0, 0], [0, 0, 0, 0]]"
            ]
          },
          "metadata": {},
          "execution_count": 43
        }
      ]
    },
    {
      "cell_type": "code",
      "source": [
        "# Program IsiMatriks;\n",
        "# Isi matriks dan menulis ke layar\n",
        "# KAMUS\n",
        "# M : matriks of integer\n",
        "# NBrs, NKol : int (ukuran brs & kol)\n",
        "# i, j : int (indeks)\n",
        "# ALGORITMA\n",
        "# deklarasi matriks\n",
        "NBrs = 5; NKol = 5;\n",
        "M = [[0 for j in range(NKol)] for i in range(NBrs)]\n",
        "# Mengisi matriks ukuran NBrsxNKol\n",
        "for i in range (NBrs):\n",
        "   for j in range (NKol):\n",
        "       M[i][j] = i * j\n",
        "# Menuliskan isi matriks ke layar\n",
        "for i in range (NBrs):\n",
        "   for j in range (NKol):\n",
        "      print(str(M[i][j])+\" \", end=''  )\n",
        "print() # print hanya enter"
      ],
      "metadata": {
        "colab": {
          "base_uri": "https://localhost:8080/"
        },
        "id": "3hmejFn49MD7",
        "outputId": "c16c518c-9cff-4d72-a512-1f2cd4986468"
      },
      "execution_count": 45,
      "outputs": [
        {
          "output_type": "stream",
          "name": "stdout",
          "text": [
            "0 0 0 0 0 0 1 2 3 4 0 2 4 6 8 0 3 6 9 12 0 4 8 12 16 \n"
          ]
        }
      ]
    },
    {
      "cell_type": "code",
      "source": [
        "# Program BacaMatriks;\n",
        "# Baca isi matriks dari pengguna dan menulis ke layar\n",
        "# KAMUS\n",
        "# M : matriks of integer\n",
        "# NBrs, NKol : int (ukuran brs & kol)\n",
        "# i, j : int (indeks)\n",
        "# ALGORITMA\n",
        "# deklarasi matriks\n",
        "NBrs = 5; NKol = 5;\n",
        "M = [[0 for j in range(NKol)] for i in range(NBrs)]\n",
        "# Mengisi matriks ukuran NBrsxNKol\n",
        "for i in range (NBrs):\n",
        "   for j in range (NKol):\n",
        "     M[i][j] = int(input(\"Elemen ke-[\"+str(i)+\",\"+str(j)+\"] = \"))\n",
        "# Menuliskan isi matriks ke layar\n",
        "for i in range (NBrs):\n",
        "   for j in range (NKol):\n",
        "      print(str(M[i][j])+\" \", end='') # print tanpa enter\n",
        "print() # print hanya enter"
      ],
      "metadata": {
        "colab": {
          "base_uri": "https://localhost:8080/"
        },
        "id": "JicVQn_M9rp1",
        "outputId": "d95dc0e2-e3ea-40f2-f246-d970b54bc0cf"
      },
      "execution_count": 48,
      "outputs": [
        {
          "output_type": "stream",
          "name": "stdout",
          "text": [
            "Elemen ke-[0,0] = 1\n",
            "Elemen ke-[0,1] = 2\n",
            "Elemen ke-[0,2] = 3\n",
            "Elemen ke-[0,3] = 4\n",
            "Elemen ke-[0,4] = 5\n",
            "Elemen ke-[1,0] = 6\n",
            "Elemen ke-[1,1] = 7\n",
            "Elemen ke-[1,2] = 8\n",
            "Elemen ke-[1,3] = 9\n",
            "Elemen ke-[1,4] = 10\n",
            "Elemen ke-[2,0] = 11\n",
            "Elemen ke-[2,1] = 12\n",
            "Elemen ke-[2,2] = 13\n",
            "Elemen ke-[2,3] = 14\n",
            "Elemen ke-[2,4] = 15\n",
            "Elemen ke-[3,0] = 16\n",
            "Elemen ke-[3,1] = 17\n",
            "Elemen ke-[3,2] = 18\n",
            "Elemen ke-[3,3] = 19\n",
            "Elemen ke-[3,4] = 20\n",
            "Elemen ke-[4,0] = 21\n",
            "Elemen ke-[4,1] = 22\n",
            "Elemen ke-[4,2] = 23\n",
            "Elemen ke-[4,3] = 24\n",
            "Elemen ke-[4,4] = 25\n",
            "1 2 3 4 5 6 7 8 9 10 11 12 13 14 15 16 17 18 19 20 21 22 23 24 25 \n"
          ]
        }
      ]
    },
    {
      "cell_type": "code",
      "source": [
        "# Program untuk membaca matriks dan mengalikan setiap elemennya dengan X\n",
        "# Membaca ukuran matriks\n",
        "baris = int(input(\"Masukkan jumlah baris: \"))\n",
        "kolom = int(input(\"Masukkan jumlah kolom: \"))\n",
        "# Membaca elemen-elemen matriks\n",
        "print(\"Masukkan elemen-elemen matriks:\")\n",
        "matriks = []\n",
        "for i in range(baris):\n",
        "    baris_matriks = []\n",
        "    for j in range(kolom):\n",
        "        elemen = int(input(f\"Elemen [{i}][{j}]: \"))\n",
        "        baris_matriks.append(elemen)\n",
        "    matriks.append(baris_matriks)\n",
        "# Membaca nilai X\n",
        "X = int(input(\"Masukkan nilai X untuk mengalikan semua elemen matriks: \"))\n",
        "# Mengalikan setiap elemen matriks dengan X\n",
        "hasil = []\n",
        "for i in range(baris):\n",
        "    hasil_baris = []\n",
        "    for j in range(kolom):\n",
        "       hasil_baris.append(matriks[i][j] * X)\n",
        "    hasil.append(hasil_baris)\n",
        "# Menampilkan hasil matriks\n",
        "print(\"\\nMatriks setelah dikalikan dengan\", X, \":\")\n",
        "for baris in hasil:\n",
        "    print(baris)"
      ],
      "metadata": {
        "colab": {
          "base_uri": "https://localhost:8080/"
        },
        "id": "N8EE1DZ3-Sq1",
        "outputId": "def35a7a-1f00-4771-a214-6a1c01b4233b"
      },
      "execution_count": 50,
      "outputs": [
        {
          "output_type": "stream",
          "name": "stdout",
          "text": [
            "Masukkan jumlah baris: 5\n",
            "Masukkan jumlah kolom: 5\n",
            "Masukkan elemen-elemen matriks:\n",
            "Elemen [0][0]: 1\n",
            "Elemen [0][1]: 2\n",
            "Elemen [0][2]: 3\n",
            "Elemen [0][3]: 4\n",
            "Elemen [0][4]: 5\n",
            "Elemen [1][0]: 6\n",
            "Elemen [1][1]: 7\n",
            "Elemen [1][2]: 8\n",
            "Elemen [1][3]: 9\n",
            "Elemen [1][4]: 10\n",
            "Elemen [2][0]: 11\n",
            "Elemen [2][1]: 12\n",
            "Elemen [2][2]: 13\n",
            "Elemen [2][3]: 14\n",
            "Elemen [2][4]: 15\n",
            "Elemen [3][0]: 16\n",
            "Elemen [3][1]: 17\n",
            "Elemen [3][2]: 18\n",
            "Elemen [3][3]: 19\n",
            "Elemen [3][4]: 20\n",
            "Elemen [4][0]: 21\n",
            "Elemen [4][1]: 22\n",
            "Elemen [4][2]: 23\n",
            "Elemen [4][3]: 24\n",
            "Elemen [4][4]: 25\n",
            "Masukkan nilai X untuk mengalikan semua elemen matriks: 2\n",
            "\n",
            "Matriks setelah dikalikan dengan 2 :\n",
            "[2, 4, 6, 8, 10]\n",
            "[12, 14, 16, 18, 20]\n",
            "[22, 24, 26, 28, 30]\n",
            "[32, 34, 36, 38, 40]\n",
            "[42, 44, 46, 48, 50]\n"
          ]
        }
      ]
    },
    {
      "cell_type": "code",
      "source": [
        "# Program untuk membuat transpose dari sebuah matriks\n",
        "# Input ukuran matriks\n",
        "baris = int(input(\"Masukkan jumlah baris matriks M: \"))\n",
        "kolom = int(input(\"Masukkan jumlah kolom matriks M: \"))\n",
        "# Input elemen-elemen matriks M\n",
        "print(\"Masukkan elemen-elemen matriks M:\")\n",
        "M = []\n",
        "for i in range(baris):\n",
        "    baris_matriks = []\n",
        "    for j in range(kolom):\n",
        "        elemen = int(input(f\"Elemen M[{i}][{j}]: \"))\n",
        "        baris_matriks.append(elemen)  # Append element to the current row\n",
        "    M.append(baris_matriks)  # Append the current row to the matrix\n",
        "\n",
        "# Membuat transpose dari M (MTranspose)\n",
        "MTranspose = []\n",
        "for i in range(kolom):  # baris MTranspose = kolom M\n",
        "    baris_transpose = []\n",
        "    for j in range(baris):  # kolom MTranspose = baris M\n",
        "        baris_transpose.append(M[j][i])  # MTranspose[i][j] = M[j][i]\n",
        "    MTranspose.append(baris_transpose)\n",
        "# Output hasil transpose\n",
        "print(\"\\nMatriks Transpose (MTranspose):\")\n",
        "for baris in MTranspose:\n",
        "    print(baris)"
      ],
      "metadata": {
        "colab": {
          "base_uri": "https://localhost:8080/"
        },
        "id": "Rtlz3irZAHjm",
        "outputId": "0a0eba04-47e5-44ae-9666-10406f5a1e64"
      },
      "execution_count": 54,
      "outputs": [
        {
          "output_type": "stream",
          "name": "stdout",
          "text": [
            "Masukkan jumlah baris matriks M: 3\n",
            "Masukkan jumlah kolom matriks M: 3\n",
            "Masukkan elemen-elemen matriks M:\n",
            "Elemen M[0][0]: 1\n",
            "Elemen M[0][1]: 2\n",
            "Elemen M[0][2]: 3\n",
            "Elemen M[1][0]: 4\n",
            "Elemen M[1][1]: 5\n",
            "Elemen M[1][2]: 6\n",
            "Elemen M[2][0]: 7\n",
            "Elemen M[2][1]: 8\n",
            "Elemen M[2][2]: 9\n",
            "\n",
            "Matriks Transpose (MTranspose):\n",
            "[1, 4, 7]\n",
            "[2, 5, 8]\n",
            "[3, 6, 9]\n"
          ]
        }
      ]
    }
  ]
}