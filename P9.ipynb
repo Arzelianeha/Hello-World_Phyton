{
  "nbformat": 4,
  "nbformat_minor": 0,
  "metadata": {
    "colab": {
      "provenance": [],
      "authorship_tag": "ABX9TyMLcpDMebh9R1+22b3ao8yy",
      "include_colab_link": true
    },
    "kernelspec": {
      "name": "python3",
      "display_name": "Python 3"
    },
    "language_info": {
      "name": "python"
    }
  },
  "cells": [
    {
      "cell_type": "markdown",
      "metadata": {
        "id": "view-in-github",
        "colab_type": "text"
      },
      "source": [
        "<a href=\"https://colab.research.google.com/github/Arzelianeha/Hello-World_Phyton/blob/main/P9.ipynb\" target=\"_parent\"><img src=\"https://colab.research.google.com/assets/colab-badge.svg\" alt=\"Open In Colab\"/></a>"
      ]
    },
    {
      "cell_type": "code",
      "execution_count": 2,
      "metadata": {
        "colab": {
          "base_uri": "https://localhost:8080/"
        },
        "id": "4q8Y3vSiHewd",
        "outputId": "1f1b2d31-7a9a-4f88-a97a-caa41f503ff0"
      },
      "outputs": [
        {
          "output_type": "stream",
          "name": "stdout",
          "text": [
            "Masukkan nama anda: Arzelia Neha\n",
            "Halo Arzelia Neha! Selamat Belajar Python!\n"
          ]
        }
      ],
      "source": [
        "#Masukan nama anda\n",
        "nama =input(\"Masukkan nama anda: \")\n",
        "print (f\"Halo {nama}! Selamat Belajar Python!\")"
      ]
    },
    {
      "cell_type": "code",
      "source": [
        "#Menghitung luas persegi panjang\n",
        "panjang = int(input(\"Masukan panjang:\"))\n",
        "lebar = int(input(\"Masukan lebar:\"))\n",
        "luas = panjang*lebar\n",
        "print(f\"luas:{luas}\")"
      ],
      "metadata": {
        "colab": {
          "base_uri": "https://localhost:8080/"
        },
        "id": "xbdR04CwMUu3",
        "outputId": "4d216034-a1e2-466b-acf0-4ad746bcad8a"
      },
      "execution_count": 6,
      "outputs": [
        {
          "output_type": "stream",
          "name": "stdout",
          "text": [
            "Masukan panjang:5\n",
            "Masukan lebar:3\n",
            "luas:15\n"
          ]
        }
      ]
    },
    {
      "cell_type": "code",
      "source": [
        "angka =int(input(\"masukkan angka: \"))\n",
        "if angka % 2 == 0:\n",
        "    print(angka,\"adalah bilangan genap\")\n",
        "else:\n",
        "    print(angka,\"adalah bilangan ganjil\")"
      ],
      "metadata": {
        "colab": {
          "base_uri": "https://localhost:8080/"
        },
        "id": "27oG-j2jO0rv",
        "outputId": "fd148ef0-afd8-440f-90e0-f8a9edacd969"
      },
      "execution_count": 24,
      "outputs": [
        {
          "output_type": "stream",
          "name": "stdout",
          "text": [
            "masukkan angka: 7\n",
            "7 adalah bilangan ganjil\n"
          ]
        }
      ]
    },
    {
      "cell_type": "code",
      "source": [
        "#Deret bilangan 1 sampai 20\n",
        "for i in range(1,21):\n",
        "      print(i, end = \" \")"
      ],
      "metadata": {
        "colab": {
          "base_uri": "https://localhost:8080/"
        },
        "id": "AITNAvwDUCjB",
        "outputId": "197ff838-c02b-429b-c784-2992399781db"
      },
      "execution_count": 23,
      "outputs": [
        {
          "output_type": "stream",
          "name": "stdout",
          "text": [
            "1 2 3 4 5 6 7 8 9 10 11 12 13 14 15 16 17 18 19 20 "
          ]
        }
      ]
    },
    {
      "cell_type": "code",
      "source": [
        "a = int(input(\"masukan bilangan pertama: \"))\n",
        "b = int(input(\"masukan bilangan kedua: \"))\n",
        "jumlah = 0\n",
        "for i in range(a, b + 1):\n",
        "     jumlah = jumlah + i\n",
        "print ( f\"jumlah: {jumlah}\")"
      ],
      "metadata": {
        "colab": {
          "base_uri": "https://localhost:8080/"
        },
        "id": "jNhiFgKwY9_a",
        "outputId": "d77401cc-3709-42ff-cd2e-e20d1d9210e3"
      },
      "execution_count": 43,
      "outputs": [
        {
          "output_type": "stream",
          "name": "stdout",
          "text": [
            "masukan bilangan pertama: 3\n",
            "masukan bilangan kedua: 7\n",
            "jumlah: 25\n"
          ]
        }
      ]
    },
    {
      "cell_type": "code",
      "source": [
        "a=int(input(\"masukan angka pertama:\"))\n",
        "b=int(input(\"masukan angka kedua:\"))\n",
        "print(f\"bilangan genap dalam antara {a} dan {b}\")\n",
        "for i in range (a,b+1):\n",
        "    if i % 2 == 0:\n",
        "        print(i, end=\" \")"
      ],
      "metadata": {
        "colab": {
          "base_uri": "https://localhost:8080/"
        },
        "id": "RgP4xG76bBi0",
        "outputId": "a24e8287-93fe-4ba2-a10c-5c39724218c1"
      },
      "execution_count": 46,
      "outputs": [
        {
          "output_type": "stream",
          "name": "stdout",
          "text": [
            "masukan angka pertama:3\n",
            "masukan angka kedua:10\n",
            "bilangan genap dalam antara 3 dan 10\n",
            "4 6 8 10 "
          ]
        }
      ]
    },
    {
      "cell_type": "code",
      "source": [
        "A = (5,3,8,1)\n",
        "reverse_arr = [0] * len(A)\n",
        "for i in range(len(A)):\n",
        "    reverse_arr[i] = A[len(A)-i-1]\n",
        "print(reverse_arr)"
      ],
      "metadata": {
        "colab": {
          "base_uri": "https://localhost:8080/"
        },
        "id": "6at0iw9hhW6d",
        "outputId": "73b64d9c-be0f-4aa7-d6fd-7970ea093d39"
      },
      "execution_count": 58,
      "outputs": [
        {
          "output_type": "stream",
          "name": "stdout",
          "text": [
            "[1, 8, 3, 5]\n"
          ]
        }
      ]
    },
    {
      "cell_type": "code",
      "source": [
        "angka = int(input(\"Masukan bilangan bulat:\"))\n",
        "prima = True\n",
        "if angka < 2:\n",
        "    prima = False\n",
        "else:\n",
        "   for i in range(2, int(angka**0.5)+1):\n",
        "    if angka % i == 0:\n",
        "        prima = False\n",
        "        break\n",
        "if prima:\n",
        "    print(f\"{angka} adalah bilangan prima\")\n",
        "else:\n",
        "    print(f\"{angka} bukan bilangan prima\")"
      ],
      "metadata": {
        "colab": {
          "base_uri": "https://localhost:8080/"
        },
        "id": "Sh0WSyyYknD3",
        "outputId": "ebb05635-636d-4f77-cf83-ee2b79706624"
      },
      "execution_count": 68,
      "outputs": [
        {
          "output_type": "stream",
          "name": "stdout",
          "text": [
            "Masukan bilangan bulat:13\n",
            "13 adalah bilangan prima\n"
          ]
        }
      ]
    }
  ]
}